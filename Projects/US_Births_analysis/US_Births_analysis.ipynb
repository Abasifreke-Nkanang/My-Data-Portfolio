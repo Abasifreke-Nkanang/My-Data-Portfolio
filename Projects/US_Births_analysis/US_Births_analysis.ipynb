{
 "cells": [
  {
   "cell_type": "markdown",
   "id": "ba7ca1f0",
   "metadata": {},
   "source": [
    "# Analysis of Births in the United States\n",
    "   *By Abasifreke Nkanang*\n",
    "   \n",
    "\n",
    "### Introduction\n",
    "In this project, I am going to conduct an analysis of birth dates in the the United States of America from the year 1994 up till 2014.\n",
    "The **Aim of the analysis** is to determine the relative popularity of birth dates in the U.S, and also to gain insights on the trend in births from month to year. This analysis will also help determine the distribution of births throughout the time frame in study. This analysis will also aim to gain any other insights relevant to this context. \n",
    "\n",
    "### Contents\n",
    "1. [Data source](#data_source)\n",
    "2. [Importing packages](#importing_packages)\n",
    "3. [Accessing and importing the dataset](#access_and_inspect)\n",
    "4. [Data cleaning and preparation](#data_clean_and_prep)\n",
    "5. [Analysis and Visualization](#data_analysis)\n",
    "6. [Conclusion](#conclusion)"
   ]
  },
  {
   "cell_type": "markdown",
   "id": "0cffcf43",
   "metadata": {},
   "source": [
    "<a id=\"data_source\"></a>\n",
    "### Source\n",
    "\n",
    "The dataset on which this analysis was done was obtained from two sources;<br> \n",
    "The U.S National Center for Health Statistics, with data range from (1994 - 2003) <https://github.com/fivethirtyeight/data/blob/master/births/US_births_1994-2003_CDC_NCHS.csv>, and <br>\n",
    "The U.S Social Security Administration, with data range from (2004 - 2014) <https://github.com/fivethirtyeight/data/blob/master/births/US_births_2000-2014_SSA.csv>.\n",
    "\n",
    "The two CSV files were downloaded and merged manually into one CSV file named \"US_births_1994-2014.csv\".\n"
   ]
  },
  {
   "cell_type": "markdown",
   "id": "7d65cbf0",
   "metadata": {},
   "source": [
    "<a id=\"importing_packages\"></a>\n",
    "### Importing all the needed packages\n",
    "Before analysis, I prefer to import all the packages i would need. Later in the analysis, If i need to use any package that i had not imported, I will just add another import statement here. \n",
    "I also plan to embed all my visualizations, by making use of the matplotlib magic keyword."
   ]
  },
  {
   "cell_type": "code",
   "execution_count": 92,
   "id": "cdc4747c",
   "metadata": {},
   "outputs": [],
   "source": [
    "import pandas as pd\n",
    "import numpy as np\n",
    "import matplotlib.pyplot as plt\n",
    "import seaborn as sns\n",
    "\n",
    "%matplotlib inline"
   ]
  },
  {
   "cell_type": "markdown",
   "id": "cf45938b",
   "metadata": {},
   "source": [
    "<a id=\"access_and_inspect\"></a>\n",
    "### Accessing and inspecting the dataset\n",
    "The dataset named _\"US_births_1994-2014.csv\"_  was obtained by merging the two csv files downloaded from the data sources, and will be read and inspected using pandas."
   ]
  },
  {
   "cell_type": "code",
   "execution_count": 93,
   "id": "0d290180",
   "metadata": {},
   "outputs": [
    {
     "data": {
      "text/html": [
       "<div>\n",
       "<style scoped>\n",
       "    .dataframe tbody tr th:only-of-type {\n",
       "        vertical-align: middle;\n",
       "    }\n",
       "\n",
       "    .dataframe tbody tr th {\n",
       "        vertical-align: top;\n",
       "    }\n",
       "\n",
       "    .dataframe thead th {\n",
       "        text-align: right;\n",
       "    }\n",
       "</style>\n",
       "<table border=\"1\" class=\"dataframe\">\n",
       "  <thead>\n",
       "    <tr style=\"text-align: right;\">\n",
       "      <th></th>\n",
       "      <th>year</th>\n",
       "      <th>month</th>\n",
       "      <th>date_of_month</th>\n",
       "      <th>day_of_week</th>\n",
       "      <th>births</th>\n",
       "    </tr>\n",
       "  </thead>\n",
       "  <tbody>\n",
       "    <tr>\n",
       "      <th>0</th>\n",
       "      <td>1994</td>\n",
       "      <td>1</td>\n",
       "      <td>1</td>\n",
       "      <td>6</td>\n",
       "      <td>8096</td>\n",
       "    </tr>\n",
       "    <tr>\n",
       "      <th>1</th>\n",
       "      <td>1994</td>\n",
       "      <td>1</td>\n",
       "      <td>2</td>\n",
       "      <td>7</td>\n",
       "      <td>7772</td>\n",
       "    </tr>\n",
       "    <tr>\n",
       "      <th>2</th>\n",
       "      <td>1994</td>\n",
       "      <td>1</td>\n",
       "      <td>3</td>\n",
       "      <td>1</td>\n",
       "      <td>10142</td>\n",
       "    </tr>\n",
       "    <tr>\n",
       "      <th>3</th>\n",
       "      <td>1994</td>\n",
       "      <td>1</td>\n",
       "      <td>4</td>\n",
       "      <td>2</td>\n",
       "      <td>11248</td>\n",
       "    </tr>\n",
       "    <tr>\n",
       "      <th>4</th>\n",
       "      <td>1994</td>\n",
       "      <td>1</td>\n",
       "      <td>5</td>\n",
       "      <td>3</td>\n",
       "      <td>11053</td>\n",
       "    </tr>\n",
       "  </tbody>\n",
       "</table>\n",
       "</div>"
      ],
      "text/plain": [
       "   year  month  date_of_month  day_of_week  births\n",
       "0  1994      1              1            6    8096\n",
       "1  1994      1              2            7    7772\n",
       "2  1994      1              3            1   10142\n",
       "3  1994      1              4            2   11248\n",
       "4  1994      1              5            3   11053"
      ]
     },
     "execution_count": 93,
     "metadata": {},
     "output_type": "execute_result"
    }
   ],
   "source": [
    "US_births = pd.read_csv(\"US_births_1994-2014.csv\")\n",
    "US_births.head()"
   ]
  },
  {
   "cell_type": "code",
   "execution_count": 94,
   "id": "2003e8ad",
   "metadata": {},
   "outputs": [
    {
     "name": "stdout",
     "output_type": "stream",
     "text": [
      "<class 'pandas.core.frame.DataFrame'>\n",
      "RangeIndex: 7670 entries, 0 to 7669\n",
      "Data columns (total 5 columns):\n",
      " #   Column         Non-Null Count  Dtype\n",
      "---  ------         --------------  -----\n",
      " 0   year           7670 non-null   int64\n",
      " 1   month          7670 non-null   int64\n",
      " 2   date_of_month  7670 non-null   int64\n",
      " 3   day_of_week    7670 non-null   int64\n",
      " 4   births         7670 non-null   int64\n",
      "dtypes: int64(5)\n",
      "memory usage: 299.7 KB\n"
     ]
    }
   ],
   "source": [
    "US_births.info()"
   ]
  },
  {
   "cell_type": "code",
   "execution_count": 95,
   "id": "09dd7a6d",
   "metadata": {},
   "outputs": [
    {
     "data": {
      "text/plain": [
       "Index(['year', 'month', 'date_of_month', 'day_of_week', 'births'], dtype='object')"
      ]
     },
     "execution_count": 95,
     "metadata": {},
     "output_type": "execute_result"
    }
   ],
   "source": [
    "US_births.columns"
   ]
  },
  {
   "cell_type": "code",
   "execution_count": 96,
   "id": "f886be2e",
   "metadata": {},
   "outputs": [
    {
     "data": {
      "text/plain": [
       "RangeIndex(start=0, stop=7670, step=1)"
      ]
     },
     "execution_count": 96,
     "metadata": {},
     "output_type": "execute_result"
    }
   ],
   "source": [
    "US_births.index"
   ]
  },
  {
   "cell_type": "markdown",
   "id": "c8ef3645",
   "metadata": {},
   "source": [
    "<a id=\"data_clean_and_prep\"></a>\n",
    "### Data cleaning and preparation"
   ]
  },
  {
   "cell_type": "markdown",
   "id": "5f4edcd3",
   "metadata": {},
   "source": [
    "#### checking for missing values"
   ]
  },
  {
   "cell_type": "code",
   "execution_count": 97,
   "id": "45c6cb41",
   "metadata": {},
   "outputs": [
    {
     "data": {
      "text/plain": [
       "year             0\n",
       "month            0\n",
       "date_of_month    0\n",
       "day_of_week      0\n",
       "births           0\n",
       "dtype: int64"
      ]
     },
     "execution_count": 97,
     "metadata": {},
     "output_type": "execute_result"
    }
   ],
   "source": [
    "US_births.isna().sum()"
   ]
  },
  {
   "cell_type": "markdown",
   "id": "3efd6823",
   "metadata": {},
   "source": [
    "This shows that the dataset does not have any missing values. So up next, I will check if there are any duplicate data records in the dataset."
   ]
  },
  {
   "cell_type": "markdown",
   "id": "b98e5af8",
   "metadata": {},
   "source": [
    "#### checking for duplicates"
   ]
  },
  {
   "cell_type": "code",
   "execution_count": 98,
   "id": "3e39c970",
   "metadata": {},
   "outputs": [
    {
     "data": {
      "text/plain": [
       "0"
      ]
     },
     "execution_count": 98,
     "metadata": {},
     "output_type": "execute_result"
    }
   ],
   "source": [
    "US_births.duplicated().sum()"
   ]
  },
  {
   "cell_type": "code",
   "execution_count": 99,
   "id": "9e3813e7",
   "metadata": {},
   "outputs": [
    {
     "data": {
      "text/plain": [
       "0"
      ]
     },
     "execution_count": 99,
     "metadata": {},
     "output_type": "execute_result"
    }
   ],
   "source": [
    "US_births.duplicated([\"year\", \"month\", \"date_of_month\", \"day_of_week\"]).sum()"
   ]
  },
  {
   "cell_type": "markdown",
   "id": "2e64d153",
   "metadata": {},
   "source": [
    "This shows that there are no duplicate records in the dataset. I am now going to create a new column named _\"full_date\"._"
   ]
  },
  {
   "cell_type": "markdown",
   "id": "85eddcde",
   "metadata": {},
   "source": [
    "#### creating new  columns"
   ]
  },
  {
   "cell_type": "code",
   "execution_count": 100,
   "id": "be6b6c1a",
   "metadata": {},
   "outputs": [
    {
     "data": {
      "text/plain": [
       "Index(['year', 'month', 'date_of_month', 'day_of_week', 'births'], dtype='object')"
      ]
     },
     "execution_count": 100,
     "metadata": {},
     "output_type": "execute_result"
    }
   ],
   "source": [
    "US_births.columns"
   ]
  },
  {
   "cell_type": "code",
   "execution_count": 101,
   "id": "33274541",
   "metadata": {},
   "outputs": [],
   "source": [
    "US_births[\"full_date\"] = US_births[\"year\"].astype(str) +\"-\"+ US_births[\"month\"].astype(str) + \"-\" + US_births[\"date_of_month\"].astype(str)"
   ]
  },
  {
   "cell_type": "code",
   "execution_count": 102,
   "id": "e8b2649a",
   "metadata": {},
   "outputs": [
    {
     "data": {
      "text/plain": [
       "0    1994-1-1\n",
       "1    1994-1-2\n",
       "2    1994-1-3\n",
       "3    1994-1-4\n",
       "4    1994-1-5\n",
       "Name: full_date, dtype: object"
      ]
     },
     "execution_count": 102,
     "metadata": {},
     "output_type": "execute_result"
    }
   ],
   "source": [
    "US_births.full_date.head()"
   ]
  },
  {
   "cell_type": "markdown",
   "id": "f4034fa3",
   "metadata": {},
   "source": [
    "With this done, I need to change the format of the full_date column, from **object** to **datetime**. "
   ]
  },
  {
   "cell_type": "code",
   "execution_count": 103,
   "id": "e83ffdb1",
   "metadata": {},
   "outputs": [],
   "source": [
    "US_births[\"full_date\"] = pd.to_datetime(US_births[\"full_date\"])"
   ]
  },
  {
   "cell_type": "code",
   "execution_count": 104,
   "id": "d1b9138d",
   "metadata": {},
   "outputs": [
    {
     "name": "stdout",
     "output_type": "stream",
     "text": [
      "<class 'pandas.core.frame.DataFrame'>\n",
      "RangeIndex: 7670 entries, 0 to 7669\n",
      "Data columns (total 1 columns):\n",
      " #   Column     Non-Null Count  Dtype         \n",
      "---  ------     --------------  -----         \n",
      " 0   full_date  7670 non-null   datetime64[ns]\n",
      "dtypes: datetime64[ns](1)\n",
      "memory usage: 60.0 KB\n"
     ]
    }
   ],
   "source": [
    "US_births[[\"full_date\"]].info()"
   ]
  },
  {
   "cell_type": "code",
   "execution_count": 105,
   "id": "270fd1ad",
   "metadata": {},
   "outputs": [
    {
     "data": {
      "text/plain": [
       "0   1994-01-01\n",
       "1   1994-01-02\n",
       "2   1994-01-03\n",
       "3   1994-01-04\n",
       "4   1994-01-05\n",
       "Name: full_date, dtype: datetime64[ns]"
      ]
     },
     "execution_count": 105,
     "metadata": {},
     "output_type": "execute_result"
    }
   ],
   "source": [
    "US_births.full_date.head()"
   ]
  },
  {
   "cell_type": "markdown",
   "id": "b935ad3a",
   "metadata": {},
   "source": [
    "<a id=\"data_analysis\"></a>\n",
    "### Analysis and visualization"
   ]
  },
  {
   "cell_type": "markdown",
   "id": "05627a03",
   "metadata": {},
   "source": [
    "First of all, I will create a pivot table to summarize the average births for each day of a month."
   ]
  },
  {
   "cell_type": "code",
   "execution_count": 106,
   "id": "3b6d1cba",
   "metadata": {},
   "outputs": [
    {
     "data": {
      "text/html": [
       "<div>\n",
       "<style scoped>\n",
       "    .dataframe tbody tr th:only-of-type {\n",
       "        vertical-align: middle;\n",
       "    }\n",
       "\n",
       "    .dataframe tbody tr th {\n",
       "        vertical-align: top;\n",
       "    }\n",
       "\n",
       "    .dataframe thead th {\n",
       "        text-align: right;\n",
       "    }\n",
       "</style>\n",
       "<table border=\"1\" class=\"dataframe\">\n",
       "  <thead>\n",
       "    <tr style=\"text-align: right;\">\n",
       "      <th>month</th>\n",
       "      <th>1</th>\n",
       "      <th>2</th>\n",
       "      <th>3</th>\n",
       "      <th>4</th>\n",
       "      <th>5</th>\n",
       "      <th>6</th>\n",
       "      <th>7</th>\n",
       "      <th>8</th>\n",
       "      <th>9</th>\n",
       "      <th>10</th>\n",
       "      <th>11</th>\n",
       "      <th>12</th>\n",
       "    </tr>\n",
       "    <tr>\n",
       "      <th>date_of_month</th>\n",
       "      <th></th>\n",
       "      <th></th>\n",
       "      <th></th>\n",
       "      <th></th>\n",
       "      <th></th>\n",
       "      <th></th>\n",
       "      <th></th>\n",
       "      <th></th>\n",
       "      <th></th>\n",
       "      <th></th>\n",
       "      <th></th>\n",
       "      <th></th>\n",
       "    </tr>\n",
       "  </thead>\n",
       "  <tbody>\n",
       "    <tr>\n",
       "      <th>1</th>\n",
       "      <td>7826.761905</td>\n",
       "      <td>10969.714286</td>\n",
       "      <td>11166.428571</td>\n",
       "      <td>10335.333333</td>\n",
       "      <td>11046.142857</td>\n",
       "      <td>11197.952381</td>\n",
       "      <td>11897.476190</td>\n",
       "      <td>11824.380952</td>\n",
       "      <td>10962.666667</td>\n",
       "      <td>11771.238095</td>\n",
       "      <td>11400.904762</td>\n",
       "      <td>11293.333333</td>\n",
       "    </tr>\n",
       "    <tr>\n",
       "      <th>2</th>\n",
       "      <td>9356.238095</td>\n",
       "      <td>10999.238095</td>\n",
       "      <td>10840.952381</td>\n",
       "      <td>11049.380952</td>\n",
       "      <td>11160.190476</td>\n",
       "      <td>11384.952381</td>\n",
       "      <td>11874.761905</td>\n",
       "      <td>11628.619048</td>\n",
       "      <td>11042.238095</td>\n",
       "      <td>11631.952381</td>\n",
       "      <td>11128.095238</td>\n",
       "      <td>11237.619048</td>\n",
       "    </tr>\n",
       "    <tr>\n",
       "      <th>3</th>\n",
       "      <td>10869.476190</td>\n",
       "      <td>10877.761905</td>\n",
       "      <td>11114.523810</td>\n",
       "      <td>10943.952381</td>\n",
       "      <td>10944.380952</td>\n",
       "      <td>11290.047619</td>\n",
       "      <td>11352.285714</td>\n",
       "      <td>11367.333333</td>\n",
       "      <td>11163.047619</td>\n",
       "      <td>11726.809524</td>\n",
       "      <td>11168.714286</td>\n",
       "      <td>11194.142857</td>\n",
       "    </tr>\n",
       "    <tr>\n",
       "      <th>4</th>\n",
       "      <td>11064.476190</td>\n",
       "      <td>10943.571429</td>\n",
       "      <td>11026.666667</td>\n",
       "      <td>11263.619048</td>\n",
       "      <td>10746.380952</td>\n",
       "      <td>11261.666667</td>\n",
       "      <td>8824.523810</td>\n",
       "      <td>11604.571429</td>\n",
       "      <td>11266.761905</td>\n",
       "      <td>11531.666667</td>\n",
       "      <td>11172.380952</td>\n",
       "      <td>11037.761905</td>\n",
       "    </tr>\n",
       "    <tr>\n",
       "      <th>5</th>\n",
       "      <td>10991.714286</td>\n",
       "      <td>10727.428571</td>\n",
       "      <td>11018.476190</td>\n",
       "      <td>10934.571429</td>\n",
       "      <td>11108.095238</td>\n",
       "      <td>11207.142857</td>\n",
       "      <td>10442.095238</td>\n",
       "      <td>11649.809524</td>\n",
       "      <td>11488.761905</td>\n",
       "      <td>11312.333333</td>\n",
       "      <td>11238.761905</td>\n",
       "      <td>11189.809524</td>\n",
       "    </tr>\n",
       "  </tbody>\n",
       "</table>\n",
       "</div>"
      ],
      "text/plain": [
       "month                    1             2             3             4   \\\n",
       "date_of_month                                                           \n",
       "1               7826.761905  10969.714286  11166.428571  10335.333333   \n",
       "2               9356.238095  10999.238095  10840.952381  11049.380952   \n",
       "3              10869.476190  10877.761905  11114.523810  10943.952381   \n",
       "4              11064.476190  10943.571429  11026.666667  11263.619048   \n",
       "5              10991.714286  10727.428571  11018.476190  10934.571429   \n",
       "\n",
       "month                    5             6             7             8   \\\n",
       "date_of_month                                                           \n",
       "1              11046.142857  11197.952381  11897.476190  11824.380952   \n",
       "2              11160.190476  11384.952381  11874.761905  11628.619048   \n",
       "3              10944.380952  11290.047619  11352.285714  11367.333333   \n",
       "4              10746.380952  11261.666667   8824.523810  11604.571429   \n",
       "5              11108.095238  11207.142857  10442.095238  11649.809524   \n",
       "\n",
       "month                    9             10            11            12  \n",
       "date_of_month                                                          \n",
       "1              10962.666667  11771.238095  11400.904762  11293.333333  \n",
       "2              11042.238095  11631.952381  11128.095238  11237.619048  \n",
       "3              11163.047619  11726.809524  11168.714286  11194.142857  \n",
       "4              11266.761905  11531.666667  11172.380952  11037.761905  \n",
       "5              11488.761905  11312.333333  11238.761905  11189.809524  "
      ]
     },
     "execution_count": 106,
     "metadata": {},
     "output_type": "execute_result"
    }
   ],
   "source": [
    "Avg_births_per_Month_Day = US_births.pivot_table(values=\"births\", index=\"date_of_month\", columns=\"month\", aggfunc=np.mean)\n",
    "Avg_births_per_Month_Day.head()"
   ]
  },
  {
   "cell_type": "code",
   "execution_count": 107,
   "id": "773b26c9",
   "metadata": {},
   "outputs": [
    {
     "name": "stdout",
     "output_type": "stream",
     "text": [
      "<class 'pandas.core.frame.DataFrame'>\n",
      "Int64Index: 31 entries, 1 to 31\n",
      "Data columns (total 12 columns):\n",
      " #   Column  Non-Null Count  Dtype  \n",
      "---  ------  --------------  -----  \n",
      " 0   1       31 non-null     float64\n",
      " 1   2       29 non-null     float64\n",
      " 2   3       31 non-null     float64\n",
      " 3   4       30 non-null     float64\n",
      " 4   5       31 non-null     float64\n",
      " 5   6       30 non-null     float64\n",
      " 6   7       31 non-null     float64\n",
      " 7   8       31 non-null     float64\n",
      " 8   9       30 non-null     float64\n",
      " 9   10      31 non-null     float64\n",
      " 10  11      30 non-null     float64\n",
      " 11  12      31 non-null     float64\n",
      "dtypes: float64(12)\n",
      "memory usage: 3.1 KB\n"
     ]
    }
   ],
   "source": [
    "Avg_births_per_Month_Day.info()"
   ]
  },
  {
   "cell_type": "markdown",
   "id": "3dd72085",
   "metadata": {},
   "source": [
    "With that done, I decide to change my column names to the abbreviations for each month."
   ]
  },
  {
   "cell_type": "code",
   "execution_count": 108,
   "id": "c654a297",
   "metadata": {},
   "outputs": [
    {
     "data": {
      "text/html": [
       "<div>\n",
       "<style scoped>\n",
       "    .dataframe tbody tr th:only-of-type {\n",
       "        vertical-align: middle;\n",
       "    }\n",
       "\n",
       "    .dataframe tbody tr th {\n",
       "        vertical-align: top;\n",
       "    }\n",
       "\n",
       "    .dataframe thead th {\n",
       "        text-align: right;\n",
       "    }\n",
       "</style>\n",
       "<table border=\"1\" class=\"dataframe\">\n",
       "  <thead>\n",
       "    <tr style=\"text-align: right;\">\n",
       "      <th></th>\n",
       "      <th>Jan</th>\n",
       "      <th>Feb</th>\n",
       "      <th>Mar</th>\n",
       "      <th>Apr</th>\n",
       "      <th>May</th>\n",
       "      <th>Jun</th>\n",
       "      <th>Jul</th>\n",
       "      <th>Aug</th>\n",
       "      <th>Sep</th>\n",
       "      <th>Oct</th>\n",
       "      <th>Nov</th>\n",
       "      <th>Dec</th>\n",
       "    </tr>\n",
       "    <tr>\n",
       "      <th>date_of_month</th>\n",
       "      <th></th>\n",
       "      <th></th>\n",
       "      <th></th>\n",
       "      <th></th>\n",
       "      <th></th>\n",
       "      <th></th>\n",
       "      <th></th>\n",
       "      <th></th>\n",
       "      <th></th>\n",
       "      <th></th>\n",
       "      <th></th>\n",
       "      <th></th>\n",
       "    </tr>\n",
       "  </thead>\n",
       "  <tbody>\n",
       "    <tr>\n",
       "      <th>1</th>\n",
       "      <td>7826.761905</td>\n",
       "      <td>10969.714286</td>\n",
       "      <td>11166.428571</td>\n",
       "      <td>10335.333333</td>\n",
       "      <td>11046.142857</td>\n",
       "      <td>11197.952381</td>\n",
       "      <td>11897.476190</td>\n",
       "      <td>11824.380952</td>\n",
       "      <td>10962.666667</td>\n",
       "      <td>11771.238095</td>\n",
       "      <td>11400.904762</td>\n",
       "      <td>11293.333333</td>\n",
       "    </tr>\n",
       "    <tr>\n",
       "      <th>2</th>\n",
       "      <td>9356.238095</td>\n",
       "      <td>10999.238095</td>\n",
       "      <td>10840.952381</td>\n",
       "      <td>11049.380952</td>\n",
       "      <td>11160.190476</td>\n",
       "      <td>11384.952381</td>\n",
       "      <td>11874.761905</td>\n",
       "      <td>11628.619048</td>\n",
       "      <td>11042.238095</td>\n",
       "      <td>11631.952381</td>\n",
       "      <td>11128.095238</td>\n",
       "      <td>11237.619048</td>\n",
       "    </tr>\n",
       "    <tr>\n",
       "      <th>3</th>\n",
       "      <td>10869.476190</td>\n",
       "      <td>10877.761905</td>\n",
       "      <td>11114.523810</td>\n",
       "      <td>10943.952381</td>\n",
       "      <td>10944.380952</td>\n",
       "      <td>11290.047619</td>\n",
       "      <td>11352.285714</td>\n",
       "      <td>11367.333333</td>\n",
       "      <td>11163.047619</td>\n",
       "      <td>11726.809524</td>\n",
       "      <td>11168.714286</td>\n",
       "      <td>11194.142857</td>\n",
       "    </tr>\n",
       "    <tr>\n",
       "      <th>4</th>\n",
       "      <td>11064.476190</td>\n",
       "      <td>10943.571429</td>\n",
       "      <td>11026.666667</td>\n",
       "      <td>11263.619048</td>\n",
       "      <td>10746.380952</td>\n",
       "      <td>11261.666667</td>\n",
       "      <td>8824.523810</td>\n",
       "      <td>11604.571429</td>\n",
       "      <td>11266.761905</td>\n",
       "      <td>11531.666667</td>\n",
       "      <td>11172.380952</td>\n",
       "      <td>11037.761905</td>\n",
       "    </tr>\n",
       "    <tr>\n",
       "      <th>5</th>\n",
       "      <td>10991.714286</td>\n",
       "      <td>10727.428571</td>\n",
       "      <td>11018.476190</td>\n",
       "      <td>10934.571429</td>\n",
       "      <td>11108.095238</td>\n",
       "      <td>11207.142857</td>\n",
       "      <td>10442.095238</td>\n",
       "      <td>11649.809524</td>\n",
       "      <td>11488.761905</td>\n",
       "      <td>11312.333333</td>\n",
       "      <td>11238.761905</td>\n",
       "      <td>11189.809524</td>\n",
       "    </tr>\n",
       "  </tbody>\n",
       "</table>\n",
       "</div>"
      ],
      "text/plain": [
       "                        Jan           Feb           Mar           Apr  \\\n",
       "date_of_month                                                           \n",
       "1               7826.761905  10969.714286  11166.428571  10335.333333   \n",
       "2               9356.238095  10999.238095  10840.952381  11049.380952   \n",
       "3              10869.476190  10877.761905  11114.523810  10943.952381   \n",
       "4              11064.476190  10943.571429  11026.666667  11263.619048   \n",
       "5              10991.714286  10727.428571  11018.476190  10934.571429   \n",
       "\n",
       "                        May           Jun           Jul           Aug  \\\n",
       "date_of_month                                                           \n",
       "1              11046.142857  11197.952381  11897.476190  11824.380952   \n",
       "2              11160.190476  11384.952381  11874.761905  11628.619048   \n",
       "3              10944.380952  11290.047619  11352.285714  11367.333333   \n",
       "4              10746.380952  11261.666667   8824.523810  11604.571429   \n",
       "5              11108.095238  11207.142857  10442.095238  11649.809524   \n",
       "\n",
       "                        Sep           Oct           Nov           Dec  \n",
       "date_of_month                                                          \n",
       "1              10962.666667  11771.238095  11400.904762  11293.333333  \n",
       "2              11042.238095  11631.952381  11128.095238  11237.619048  \n",
       "3              11163.047619  11726.809524  11168.714286  11194.142857  \n",
       "4              11266.761905  11531.666667  11172.380952  11037.761905  \n",
       "5              11488.761905  11312.333333  11238.761905  11189.809524  "
      ]
     },
     "execution_count": 108,
     "metadata": {},
     "output_type": "execute_result"
    }
   ],
   "source": [
    "months_abbrev_list = [\"Jan\", \"Feb\", \"Mar\", \"Apr\", \"May\", \"Jun\", \"Jul\", \"Aug\", \"Sep\", \"Oct\", \"Nov\", \"Dec\"]\n",
    "Avg_births_per_Month_Day.columns = months_abbrev_list\n",
    "Avg_births_per_Month_Day.head()"
   ]
  },
  {
   "cell_type": "code",
   "execution_count": 109,
   "id": "bc89025d",
   "metadata": {},
   "outputs": [
    {
     "data": {
      "text/html": [
       "<div>\n",
       "<style scoped>\n",
       "    .dataframe tbody tr th:only-of-type {\n",
       "        vertical-align: middle;\n",
       "    }\n",
       "\n",
       "    .dataframe tbody tr th {\n",
       "        vertical-align: top;\n",
       "    }\n",
       "\n",
       "    .dataframe thead th {\n",
       "        text-align: right;\n",
       "    }\n",
       "</style>\n",
       "<table border=\"1\" class=\"dataframe\">\n",
       "  <thead>\n",
       "    <tr style=\"text-align: right;\">\n",
       "      <th></th>\n",
       "      <th>Jan</th>\n",
       "      <th>Feb</th>\n",
       "      <th>Mar</th>\n",
       "      <th>Apr</th>\n",
       "      <th>May</th>\n",
       "      <th>Jun</th>\n",
       "      <th>Jul</th>\n",
       "      <th>Aug</th>\n",
       "      <th>Sep</th>\n",
       "      <th>Oct</th>\n",
       "      <th>Nov</th>\n",
       "      <th>Dec</th>\n",
       "    </tr>\n",
       "    <tr>\n",
       "      <th>date_of_month</th>\n",
       "      <th></th>\n",
       "      <th></th>\n",
       "      <th></th>\n",
       "      <th></th>\n",
       "      <th></th>\n",
       "      <th></th>\n",
       "      <th></th>\n",
       "      <th></th>\n",
       "      <th></th>\n",
       "      <th></th>\n",
       "      <th></th>\n",
       "      <th></th>\n",
       "    </tr>\n",
       "  </thead>\n",
       "  <tbody>\n",
       "    <tr>\n",
       "      <th>27</th>\n",
       "      <td>10857.714286</td>\n",
       "      <td>10898.380952</td>\n",
       "      <td>10937.238095</td>\n",
       "      <td>10694.428571</td>\n",
       "      <td>10720.476190</td>\n",
       "      <td>11632.904762</td>\n",
       "      <td>11447.476190</td>\n",
       "      <td>11781.952381</td>\n",
       "      <td>11906.142857</td>\n",
       "      <td>11067.761905</td>\n",
       "      <td>9769.714286</td>\n",
       "      <td>11724.476190</td>\n",
       "    </tr>\n",
       "    <tr>\n",
       "      <th>28</th>\n",
       "      <td>10874.523810</td>\n",
       "      <td>11101.190476</td>\n",
       "      <td>11088.761905</td>\n",
       "      <td>10830.952381</td>\n",
       "      <td>10833.380952</td>\n",
       "      <td>11597.095238</td>\n",
       "      <td>11645.142857</td>\n",
       "      <td>11909.619048</td>\n",
       "      <td>11594.095238</td>\n",
       "      <td>11142.000000</td>\n",
       "      <td>10140.523810</td>\n",
       "      <td>11901.000000</td>\n",
       "    </tr>\n",
       "    <tr>\n",
       "      <th>29</th>\n",
       "      <td>10611.000000</td>\n",
       "      <td>10512.200000</td>\n",
       "      <td>10906.285714</td>\n",
       "      <td>10767.047619</td>\n",
       "      <td>10823.190476</td>\n",
       "      <td>11386.523810</td>\n",
       "      <td>11626.952381</td>\n",
       "      <td>11977.095238</td>\n",
       "      <td>11613.476190</td>\n",
       "      <td>11056.428571</td>\n",
       "      <td>10808.952381</td>\n",
       "      <td>12003.904762</td>\n",
       "    </tr>\n",
       "    <tr>\n",
       "      <th>30</th>\n",
       "      <td>10793.761905</td>\n",
       "      <td>NaN</td>\n",
       "      <td>10742.809524</td>\n",
       "      <td>10772.428571</td>\n",
       "      <td>10943.333333</td>\n",
       "      <td>11579.904762</td>\n",
       "      <td>11642.428571</td>\n",
       "      <td>11845.714286</td>\n",
       "      <td>11531.476190</td>\n",
       "      <td>10871.666667</td>\n",
       "      <td>10897.809524</td>\n",
       "      <td>11932.238095</td>\n",
       "    </tr>\n",
       "    <tr>\n",
       "      <th>31</th>\n",
       "      <td>10927.238095</td>\n",
       "      <td>NaN</td>\n",
       "      <td>10806.523810</td>\n",
       "      <td>NaN</td>\n",
       "      <td>10757.428571</td>\n",
       "      <td>NaN</td>\n",
       "      <td>11564.000000</td>\n",
       "      <td>11592.380952</td>\n",
       "      <td>NaN</td>\n",
       "      <td>10029.952381</td>\n",
       "      <td>NaN</td>\n",
       "      <td>10433.380952</td>\n",
       "    </tr>\n",
       "  </tbody>\n",
       "</table>\n",
       "</div>"
      ],
      "text/plain": [
       "                        Jan           Feb           Mar           Apr  \\\n",
       "date_of_month                                                           \n",
       "27             10857.714286  10898.380952  10937.238095  10694.428571   \n",
       "28             10874.523810  11101.190476  11088.761905  10830.952381   \n",
       "29             10611.000000  10512.200000  10906.285714  10767.047619   \n",
       "30             10793.761905           NaN  10742.809524  10772.428571   \n",
       "31             10927.238095           NaN  10806.523810           NaN   \n",
       "\n",
       "                        May           Jun           Jul           Aug  \\\n",
       "date_of_month                                                           \n",
       "27             10720.476190  11632.904762  11447.476190  11781.952381   \n",
       "28             10833.380952  11597.095238  11645.142857  11909.619048   \n",
       "29             10823.190476  11386.523810  11626.952381  11977.095238   \n",
       "30             10943.333333  11579.904762  11642.428571  11845.714286   \n",
       "31             10757.428571           NaN  11564.000000  11592.380952   \n",
       "\n",
       "                        Sep           Oct           Nov           Dec  \n",
       "date_of_month                                                          \n",
       "27             11906.142857  11067.761905   9769.714286  11724.476190  \n",
       "28             11594.095238  11142.000000  10140.523810  11901.000000  \n",
       "29             11613.476190  11056.428571  10808.952381  12003.904762  \n",
       "30             11531.476190  10871.666667  10897.809524  11932.238095  \n",
       "31                      NaN  10029.952381           NaN  10433.380952  "
      ]
     },
     "execution_count": 109,
     "metadata": {},
     "output_type": "execute_result"
    }
   ],
   "source": [
    "Avg_births_per_Month_Day.tail()"
   ]
  },
  {
   "cell_type": "markdown",
   "id": "4f255925",
   "metadata": {},
   "source": [
    "Perfect!!.\n",
    "Average births in all invalid dates like February 30, are considered as nulls.\n",
    "To gain some insights on the popularity of date births, I would plot a calendar heatmap using seaborn and matplotlib."
   ]
  },
  {
   "cell_type": "code",
   "execution_count": 110,
   "id": "ac101c47",
   "metadata": {},
   "outputs": [
    {
     "data": {
      "image/png": "[encoded data removed]",
      "text/plain": [
       "<Figure size 864x936 with 2 Axes>"
      ]
     },
     "metadata": {
      "needs_background": "light"
     },
     "output_type": "display_data"
    }
   ],
   "source": [
    "ax = sns.heatmap(Avg_births_per_Month_Day, xticklabels=1, yticklabels=1, cmap=\"inferno_r\", linewidths=.7, linecolor=\"gray\")\n",
    "figure = plt.gcf()  #getting the current plot\n",
    "figure.set_size_inches(12, 13)  #adjusting the plot size\n",
    "ax.xaxis.tick_top()  #plotting the x-axis ticks at the top of the plot\n",
    "plt.ylabel(None) \n",
    "plt.title(\"Average U.S daily births (1994 - 2014)\")\n",
    "plt.show()"
   ]
  },
  {
   "cell_type": "markdown",
   "id": "c2f20536",
   "metadata": {},
   "source": [
    "From the heatmap, We can observe that the most popular birth dates occur in September, during the second and third weeks, and in July, while the least popular birth dates occur during Christmas, New year, and Thanksgiving.  "
   ]
  },
  {
   "cell_type": "markdown",
   "id": "ba56ad13",
   "metadata": {},
   "source": [
    "Next, I intend to determine the popularity of birth month by using the average births for each month. I decided on using the average births rather than the total births. This was because some months have more days than others, and the total births for each month would not convey the actual popularity. "
   ]
  },
  {
   "cell_type": "markdown",
   "id": "3639596b",
   "metadata": {},
   "source": [
    "First of all, I am calculating the average monthly births for each month throughout the entire time frame."
   ]
  },
  {
   "cell_type": "code",
   "execution_count": 111,
   "id": "ba27ab9c",
   "metadata": {},
   "outputs": [
    {
     "data": {
      "text/html": [
       "<div>\n",
       "<style scoped>\n",
       "    .dataframe tbody tr th:only-of-type {\n",
       "        vertical-align: middle;\n",
       "    }\n",
       "\n",
       "    .dataframe tbody tr th {\n",
       "        vertical-align: top;\n",
       "    }\n",
       "\n",
       "    .dataframe thead th {\n",
       "        text-align: right;\n",
       "    }\n",
       "</style>\n",
       "<table border=\"1\" class=\"dataframe\">\n",
       "  <thead>\n",
       "    <tr style=\"text-align: right;\">\n",
       "      <th></th>\n",
       "      <th>month</th>\n",
       "      <th>year</th>\n",
       "      <th>births</th>\n",
       "    </tr>\n",
       "  </thead>\n",
       "  <tbody>\n",
       "    <tr>\n",
       "      <th>0</th>\n",
       "      <td>1</td>\n",
       "      <td>1994</td>\n",
       "      <td>8096</td>\n",
       "    </tr>\n",
       "    <tr>\n",
       "      <th>1</th>\n",
       "      <td>1</td>\n",
       "      <td>1994</td>\n",
       "      <td>7772</td>\n",
       "    </tr>\n",
       "    <tr>\n",
       "      <th>2</th>\n",
       "      <td>1</td>\n",
       "      <td>1994</td>\n",
       "      <td>10142</td>\n",
       "    </tr>\n",
       "    <tr>\n",
       "      <th>3</th>\n",
       "      <td>1</td>\n",
       "      <td>1994</td>\n",
       "      <td>11248</td>\n",
       "    </tr>\n",
       "    <tr>\n",
       "      <th>4</th>\n",
       "      <td>1</td>\n",
       "      <td>1994</td>\n",
       "      <td>11053</td>\n",
       "    </tr>\n",
       "  </tbody>\n",
       "</table>\n",
       "</div>"
      ],
      "text/plain": [
       "   month  year  births\n",
       "0      1  1994    8096\n",
       "1      1  1994    7772\n",
       "2      1  1994   10142\n",
       "3      1  1994   11248\n",
       "4      1  1994   11053"
      ]
     },
     "execution_count": 111,
     "metadata": {},
     "output_type": "execute_result"
    }
   ],
   "source": [
    "US_births_per_month_year = US_births[[\"month\", \"year\", \"births\"]]  #creating a new dataframe containing only the month, year, and births columns from the US_births dataframe\n",
    "US_births_per_month_year.head()"
   ]
  },
  {
   "cell_type": "code",
   "execution_count": 112,
   "id": "1fade577",
   "metadata": {},
   "outputs": [
    {
     "data": {
      "text/html": [
       "<div>\n",
       "<style scoped>\n",
       "    .dataframe tbody tr th:only-of-type {\n",
       "        vertical-align: middle;\n",
       "    }\n",
       "\n",
       "    .dataframe tbody tr th {\n",
       "        vertical-align: top;\n",
       "    }\n",
       "\n",
       "    .dataframe thead th {\n",
       "        text-align: right;\n",
       "    }\n",
       "</style>\n",
       "<table border=\"1\" class=\"dataframe\">\n",
       "  <thead>\n",
       "    <tr style=\"text-align: right;\">\n",
       "      <th></th>\n",
       "      <th></th>\n",
       "      <th>births</th>\n",
       "    </tr>\n",
       "    <tr>\n",
       "      <th>month</th>\n",
       "      <th>year</th>\n",
       "      <th></th>\n",
       "    </tr>\n",
       "  </thead>\n",
       "  <tbody>\n",
       "    <tr>\n",
       "      <th rowspan=\"5\" valign=\"top\">1</th>\n",
       "      <th>1994</th>\n",
       "      <td>320705</td>\n",
       "    </tr>\n",
       "    <tr>\n",
       "      <th>1995</th>\n",
       "      <td>316013</td>\n",
       "    </tr>\n",
       "    <tr>\n",
       "      <th>1996</th>\n",
       "      <td>314283</td>\n",
       "    </tr>\n",
       "    <tr>\n",
       "      <th>1997</th>\n",
       "      <td>317211</td>\n",
       "    </tr>\n",
       "    <tr>\n",
       "      <th>1998</th>\n",
       "      <td>319340</td>\n",
       "    </tr>\n",
       "  </tbody>\n",
       "</table>\n",
       "</div>"
      ],
      "text/plain": [
       "            births\n",
       "month year        \n",
       "1     1994  320705\n",
       "      1995  316013\n",
       "      1996  314283\n",
       "      1997  317211\n",
       "      1998  319340"
      ]
     },
     "execution_count": 112,
     "metadata": {},
     "output_type": "execute_result"
    }
   ],
   "source": [
    "Sum_births_per_month_year = US_births_per_month_year.groupby([\"month\", \"year\"]).sum() #grouping by the month and year, and summing the births\n",
    "Sum_births_per_month_year.head()"
   ]
  },
  {
   "cell_type": "code",
   "execution_count": 113,
   "id": "39a367fe",
   "metadata": {},
   "outputs": [
    {
     "data": {
      "text/html": [
       "<div>\n",
       "<style scoped>\n",
       "    .dataframe tbody tr th:only-of-type {\n",
       "        vertical-align: middle;\n",
       "    }\n",
       "\n",
       "    .dataframe tbody tr th {\n",
       "        vertical-align: top;\n",
       "    }\n",
       "\n",
       "    .dataframe thead th {\n",
       "        text-align: right;\n",
       "    }\n",
       "</style>\n",
       "<table border=\"1\" class=\"dataframe\">\n",
       "  <thead>\n",
       "    <tr style=\"text-align: right;\">\n",
       "      <th></th>\n",
       "      <th>month</th>\n",
       "      <th>births</th>\n",
       "    </tr>\n",
       "  </thead>\n",
       "  <tbody>\n",
       "    <tr>\n",
       "      <th>0</th>\n",
       "      <td>Jan</td>\n",
       "      <td>332348.666667</td>\n",
       "    </tr>\n",
       "    <tr>\n",
       "      <th>1</th>\n",
       "      <td>Feb</td>\n",
       "      <td>310080.809524</td>\n",
       "    </tr>\n",
       "    <tr>\n",
       "      <th>2</th>\n",
       "      <td>Mar</td>\n",
       "      <td>340350.857143</td>\n",
       "    </tr>\n",
       "    <tr>\n",
       "      <th>3</th>\n",
       "      <td>Apr</td>\n",
       "      <td>326225.380952</td>\n",
       "    </tr>\n",
       "    <tr>\n",
       "      <th>4</th>\n",
       "      <td>May</td>\n",
       "      <td>341684.142857</td>\n",
       "    </tr>\n",
       "  </tbody>\n",
       "</table>\n",
       "</div>"
      ],
      "text/plain": [
       "  month         births\n",
       "0   Jan  332348.666667\n",
       "1   Feb  310080.809524\n",
       "2   Mar  340350.857143\n",
       "3   Apr  326225.380952\n",
       "4   May  341684.142857"
      ]
     },
     "execution_count": 113,
     "metadata": {},
     "output_type": "execute_result"
    }
   ],
   "source": [
    "Avg_monthly_births= Sum_births_per_month_year.groupby(\"month\").mean()  #grouping by month, and finding the mean of births\n",
    "Avg_monthly_births = Avg_monthly_births.reset_index()  #resetting the index of the dataframe\n",
    "Avg_monthly_births[\"month\"] = months_abbrev_list\n",
    "Avg_monthly_births.head()"
   ]
  },
  {
   "cell_type": "markdown",
   "id": "ad920436",
   "metadata": {},
   "source": [
    "With that done, I would then calculate the average daily births for each year."
   ]
  },
  {
   "cell_type": "code",
   "execution_count": 114,
   "id": "1e1367d3",
   "metadata": {},
   "outputs": [
    {
     "data": {
      "text/html": [
       "<div>\n",
       "<style scoped>\n",
       "    .dataframe tbody tr th:only-of-type {\n",
       "        vertical-align: middle;\n",
       "    }\n",
       "\n",
       "    .dataframe tbody tr th {\n",
       "        vertical-align: top;\n",
       "    }\n",
       "\n",
       "    .dataframe thead th {\n",
       "        text-align: right;\n",
       "    }\n",
       "</style>\n",
       "<table border=\"1\" class=\"dataframe\">\n",
       "  <thead>\n",
       "    <tr style=\"text-align: right;\">\n",
       "      <th></th>\n",
       "      <th>month</th>\n",
       "      <th>births</th>\n",
       "    </tr>\n",
       "  </thead>\n",
       "  <tbody>\n",
       "    <tr>\n",
       "      <th>0</th>\n",
       "      <td>Jan</td>\n",
       "      <td>10720.924731</td>\n",
       "    </tr>\n",
       "    <tr>\n",
       "      <th>1</th>\n",
       "      <td>Feb</td>\n",
       "      <td>10980.939292</td>\n",
       "    </tr>\n",
       "    <tr>\n",
       "      <th>2</th>\n",
       "      <td>Mar</td>\n",
       "      <td>10979.059908</td>\n",
       "    </tr>\n",
       "    <tr>\n",
       "      <th>3</th>\n",
       "      <td>Apr</td>\n",
       "      <td>10874.179365</td>\n",
       "    </tr>\n",
       "    <tr>\n",
       "      <th>4</th>\n",
       "      <td>May</td>\n",
       "      <td>11022.069124</td>\n",
       "    </tr>\n",
       "  </tbody>\n",
       "</table>\n",
       "</div>"
      ],
      "text/plain": [
       "  month        births\n",
       "0   Jan  10720.924731\n",
       "1   Feb  10980.939292\n",
       "2   Mar  10979.059908\n",
       "3   Apr  10874.179365\n",
       "4   May  11022.069124"
      ]
     },
     "execution_count": 114,
     "metadata": {},
     "output_type": "execute_result"
    }
   ],
   "source": [
    "Avg_daily_births_per_month = US_births_per_month_year.groupby(\"month\")[\"births\"].mean()  #grouping by month and year, and finding the mean of births\n",
    "Avg_daily_births_per_month = Avg_daily_births_per_month.reset_index()  #resetting the index of the dataframe\n",
    "Avg_daily_births_per_month[\"month\"] = months_abbrev_list\n",
    "Avg_daily_births_per_month.head()"
   ]
  },
  {
   "cell_type": "code",
   "execution_count": 115,
   "id": "9a8227f6",
   "metadata": {},
   "outputs": [
    {
     "data": {
      "image/png": "[encoded data removed]",
      "text/plain": [
       "<Figure size 864x288 with 1 Axes>"
      ]
     },
     "metadata": {
      "needs_background": "light"
     },
     "output_type": "display_data"
    },
    {
     "data": {
      "image/png": "[encoded data removed]",
      "text/plain": [
       "<Figure size 864x288 with 1 Axes>"
      ]
     },
     "metadata": {
      "needs_background": "light"
     },
     "output_type": "display_data"
    }
   ],
   "source": [
    "#plotting a line chart representing the average monthly births\n",
    "axs1 = sns.lineplot(x=\"month\", y=\"births\", data=Avg_monthly_births)\n",
    "figure = plt.gcf()\n",
    "figure.set_size_inches(12, 4)\n",
    "plt.xlabel(None)\n",
    "plt.ylabel(\"Average monthly births\")\n",
    "plt.title(\"Average monthly births per month\")\n",
    "plt.show()\n",
    "\n",
    "#plotting a line chart representitng the average daily births for each month\n",
    "axs2 = sns.lineplot(x=\"month\", y=\"births\", data=Avg_daily_births_per_month)\n",
    "figure = plt.gcf()\n",
    "figure.set_size_inches(12, 4)\n",
    "plt.ylabel(\"Average daily births\")\n",
    "plt.title(\"Average daily births per month\")\n",
    "plt.show()\n"
   ]
  },
  {
   "cell_type": "markdown",
   "id": "16c2ec23",
   "metadata": {},
   "source": [
    "Viola!! \n",
    "Next, I wish to determine the popularity of each day of the week. I intend to achieve this by calculating the average births for each day of the week."
   ]
  },
  {
   "cell_type": "code",
   "execution_count": 116,
   "id": "e2579a23",
   "metadata": {},
   "outputs": [
    {
     "data": {
      "text/html": [
       "<div>\n",
       "<style scoped>\n",
       "    .dataframe tbody tr th:only-of-type {\n",
       "        vertical-align: middle;\n",
       "    }\n",
       "\n",
       "    .dataframe tbody tr th {\n",
       "        vertical-align: top;\n",
       "    }\n",
       "\n",
       "    .dataframe thead th {\n",
       "        text-align: right;\n",
       "    }\n",
       "</style>\n",
       "<table border=\"1\" class=\"dataframe\">\n",
       "  <thead>\n",
       "    <tr style=\"text-align: right;\">\n",
       "      <th></th>\n",
       "      <th>day_of_week</th>\n",
       "      <th>births</th>\n",
       "    </tr>\n",
       "  </thead>\n",
       "  <tbody>\n",
       "    <tr>\n",
       "      <th>0</th>\n",
       "      <td>Mon</td>\n",
       "      <td>11606.728102</td>\n",
       "    </tr>\n",
       "    <tr>\n",
       "      <th>1</th>\n",
       "      <td>Tue</td>\n",
       "      <td>12841.802920</td>\n",
       "    </tr>\n",
       "    <tr>\n",
       "      <th>2</th>\n",
       "      <td>Wed</td>\n",
       "      <td>12620.875000</td>\n",
       "    </tr>\n",
       "    <tr>\n",
       "      <th>3</th>\n",
       "      <td>Thu</td>\n",
       "      <td>12551.800913</td>\n",
       "    </tr>\n",
       "    <tr>\n",
       "      <th>4</th>\n",
       "      <td>Fri</td>\n",
       "      <td>12349.235616</td>\n",
       "    </tr>\n",
       "  </tbody>\n",
       "</table>\n",
       "</div>"
      ],
      "text/plain": [
       "  day_of_week        births\n",
       "0         Mon  11606.728102\n",
       "1         Tue  12841.802920\n",
       "2         Wed  12620.875000\n",
       "3         Thu  12551.800913\n",
       "4         Fri  12349.235616"
      ]
     },
     "execution_count": 116,
     "metadata": {},
     "output_type": "execute_result"
    }
   ],
   "source": [
    "Avg_births_per_day_of_week = US_births.groupby(\"day_of_week\")[\"births\"].mean()  \n",
    "Avg_births_per_day_of_week = Avg_births_per_day_of_week.reset_index()\n",
    "Avg_births_per_day_of_week[\"day_of_week\"] = [\"Mon\", \"Tue\", \"Wed\", \"Thu\", \"Fri\", \"Sat\", \"Sun\"]      \n",
    "Avg_births_per_day_of_week.head()"
   ]
  },
  {
   "cell_type": "code",
   "execution_count": 117,
   "id": "82bc01d1",
   "metadata": {
    "scrolled": false
   },
   "outputs": [
    {
     "data": {
      "image/png": "[encoded data removed]",
      "text/plain": [
       "<Figure size 432x288 with 1 Axes>"
      ]
     },
     "metadata": {
      "needs_background": "light"
     },
     "output_type": "display_data"
    }
   ],
   "source": [
    "#plotting a bar plot representing the average births for each day of the week\n",
    "ax = sns.barplot(x=\"day_of_week\", y=\"births\", data=Avg_births_per_day_of_week)\n",
    "plt.xlabel(\"Day of week\")\n",
    "plt.title(\"Popularity of births by Day of the week\")\n",
    "plt.show()"
   ]
  },
  {
   "cell_type": "markdown",
   "id": "09ba2ac6",
   "metadata": {},
   "source": [
    "Magnificiento!!\n",
    "I then intend to determine the skewness of the data, by analyzing its distribution using a histogram."
   ]
  },
  {
   "cell_type": "code",
   "execution_count": 118,
   "id": "f265e3fa",
   "metadata": {},
   "outputs": [
    {
     "data": {
      "image/png": "[encoded data removed]",
      "text/plain": [
       "<Figure size 432x288 with 1 Axes>"
      ]
     },
     "metadata": {
      "needs_background": "light"
     },
     "output_type": "display_data"
    }
   ],
   "source": [
    "ax = US_births[\"births\"].hist(bins=20)\n",
    "plt.xlabel(\"Number of daily births\")\n",
    "plt.ylabel(\"count\")\n",
    "plt.title(\"Distribution of daily births\")\n",
    "plt.show()"
   ]
  },
  {
   "cell_type": "markdown",
   "id": "d0aff44a",
   "metadata": {},
   "source": [
    "Lastly, I would create a strip plot to analyse the distribution of births for each month."
   ]
  },
  {
   "cell_type": "code",
   "execution_count": 119,
   "id": "faaafa13",
   "metadata": {},
   "outputs": [
    {
     "data": {
      "image/png": "[encoded data removed]",
      "text/plain": [
       "<Figure size 1080x576 with 1 Axes>"
      ]
     },
     "metadata": {
      "needs_background": "light"
     },
     "output_type": "display_data"
    }
   ],
   "source": [
    "ax = sns.stripplot(y=\"births\", x = \"month\", data=US_births) #plotting the strip plot\n",
    "figure = plt.gcf() #Getting the current plot\n",
    "figure.set_size_inches(15, 8) #adjusting the figure size"
   ]
  },
  {
   "cell_type": "markdown",
   "id": "a639609e",
   "metadata": {},
   "source": [
    "Beautiful!!\n",
    "Of all the months, December has the widest range of daily births."
   ]
  },
  {
   "cell_type": "markdown",
   "id": "d4e8252f",
   "metadata": {},
   "source": [
    "<a id=\"conclusion\"></a>\n",
    "### Conclusion\n",
    "\n",
    "#### Insights\n",
    "Below are some of the insights that i have gained from the analysis;\n",
    "\n",
    "1.)\t  September appeared to be the most popular birth month, having nine out of the ten most popular birth dates. With these nine birth dates all occurring between the second and third weeks, three of which are September 9, September 19, and September 12. Following a customary gestation period of 266 days, in theory, many of those babies would have been conceived on December 17, December 27, and December 20 respectively. This therefore shows that more babies are usually conceived during holiday periods, because people tend to have more time for baby-making during these periods (their time off from work, studies etc.).\n",
    "\n",
    "2.)\t  It can also be observed that births seem less likely to occur during holidays, and on weekends. This is proven by the fact that, all the five least popular birth dates fall within holiday periods; Boxing day, Thanksgiving, New year's day, Christmas eve, and Christmas day, and fewer births occur on Saturdays and Sundays. One reason for this is that, almost no cesarean births are scheduled      by doctors to happen on public holidays and weekends. And studies show that about one in three American babies are born through cesarean sections. Another reason may be that, if doctors plan to induce an expectant mother into labour, they do not schedule it for holiday periods or weekends. Also, doctors may be asked to induce labour on the run up to public holidays like Christmas etc.\n",
    "\n",
    "3.)   A point to note is that, an analysis on the distribution of daily births shows that the data is left-skewed. This is because the mean number of daily births is less than the most occurring number of daily births which is around 12, 300.\n"
   ]
  },
  {
   "cell_type": "markdown",
   "id": "dc0b9870",
   "metadata": {},
   "source": [
    "\n",
    "[Visit my linkedin profile](https://www.linkedin.com/abasifreke-nkanang-775a22229)\n",
    "\n",
    "[Visit my Tableau public profile](https://public.tableau.com/app/profile/abasifreke.nkanang)\n"
   ]
  }
 ],
 "metadata": {
  "kernelspec": {
   "display_name": "Python 3 (ipykernel)",
   "language": "python",
   "name": "python3"
  },
  "language_info": {
   "codemirror_mode": {
    "name": "ipython",
    "version": 3
   },
   "file_extension": ".py",
   "mimetype": "text/x-python",
   "name": "python",
   "nbconvert_exporter": "python",
   "pygments_lexer": "ipython3",
   "version": "3.7.4"
  }
 },
 "nbformat": 4,
 "nbformat_minor": 5
}
